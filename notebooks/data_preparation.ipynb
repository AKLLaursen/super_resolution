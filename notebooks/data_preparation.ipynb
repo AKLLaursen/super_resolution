{
 "cells": [
  {
   "cell_type": "markdown",
   "metadata": {},
   "source": [
    "# Super resolution project\n",
    "\n",
    "Project implementing super resolution for scanned images to be used in text extraction applications such as Tesseract 4."
   ]
  },
  {
   "cell_type": "markdown",
   "metadata": {},
   "source": [
    "## Setup"
   ]
  },
  {
   "cell_type": "markdown",
   "metadata": {},
   "source": [
    "Read libraries and functions"
   ]
  },
  {
   "cell_type": "code",
   "execution_count": 1,
   "metadata": {
    "collapsed": true
   },
   "outputs": [],
   "source": [
    "# Plots displayed inline in notebook\n",
    "%matplotlib inline\n",
    "\n",
    "# Set visible devices, so as to just use a single GPU.\n",
    "import os\n",
    "os.environ[\"CUDA_DEVICE_ORDER\"] = 'PCI_BUS_ID'\n",
    "os.environ[\"CUDA_VISIBLE_DEVICES\"] = '0'"
   ]
  },
  {
   "cell_type": "code",
   "execution_count": 399,
   "metadata": {
    "collapsed": true
   },
   "outputs": [],
   "source": [
    "import urllib.request\n",
    "import json\n",
    "import matplotlib.pyplot as plt\n",
    "import pickle\n",
    "import pandas as pd\n",
    "import numpy as np\n",
    "import glob\n",
    "import cv2\n",
    "\n",
    "from PIL import Image\n",
    "from io import BytesIO\n",
    "from scipy.misc import imresize"
   ]
  },
  {
   "cell_type": "code",
   "execution_count": 3,
   "metadata": {
    "collapsed": true
   },
   "outputs": [],
   "source": [
    "PATH = '../'"
   ]
  },
  {
   "cell_type": "markdown",
   "metadata": {},
   "source": [
    "Download address data"
   ]
  },
  {
   "cell_type": "code",
   "execution_count": 7,
   "metadata": {},
   "outputs": [
    {
     "data": {
      "text/plain": [
       "('../data/danmarks_adresser.json', <http.client.HTTPMessage at 0x1ee732f5e48>)"
      ]
     },
     "execution_count": 7,
     "metadata": {},
     "output_type": "execute_result"
    }
   ],
   "source": [
    "# All danish addresses\n",
    "urllib.request.urlretrieve('http://dawa.aws.dk/adresser?format=json',\n",
    "                           PATH + 'data/addresses_denmark.json')\n",
    "\n",
    "# Copenhagen addresses\n",
    "urllib.request.urlretrieve('http://dawa.aws.dk/adresser?format=json&kommunekode=0101',\n",
    "                           PATH + 'data/addresses_copenhagen.json')"
   ]
  },
  {
   "cell_type": "markdown",
   "metadata": {},
   "source": [
    "Extract address data from json"
   ]
  },
  {
   "cell_type": "code",
   "execution_count": 42,
   "metadata": {
    "collapsed": true
   },
   "outputs": [],
   "source": [
    "with open(PATH + 'data/addresses_copenhagen.json', 'rb') as f:\n",
    "    json_addresses = json.loads(f.read().decode())"
   ]
  },
  {
   "cell_type": "markdown",
   "metadata": {},
   "source": [
    "Extract relevant information from JSON and gather in dict with two primary lines."
   ]
  },
  {
   "cell_type": "code",
   "execution_count": 100,
   "metadata": {
    "collapsed": true
   },
   "outputs": [],
   "source": [
    "def addr_const(in_elem):\n",
    "    \n",
    "    tmp_dict = {\n",
    "        'road': in_elem['adgangsadresse']['vejstykke']['adresseringsnavn'],\n",
    "        'number': in_elem['adgangsadresse']['husnr'],\n",
    "        'floor': in_elem['etage'],\n",
    "        'door': in_elem['dør'],\n",
    "        'zip': in_elem['adgangsadresse']['postnummer']['nr'],\n",
    "        'zip_name': in_elem['adgangsadresse']['postnummer']['navn'],\n",
    "    }\n",
    "    \n",
    "    if tmp_dict['floor'] is not None:\n",
    "        tmp_dict['floor'] = ', ' + tmp_dict['floor'] + '.'\n",
    "    else:\n",
    "        tmp_dict['floor'] = ''\n",
    "        \n",
    "    if tmp_dict['door'] is not None:\n",
    "        tmp_dict['door'] = ' ' + tmp_dict['door'] + '.'\n",
    "    else:\n",
    "        tmp_dict['door'] = ''\n",
    "        \n",
    "    out_dict = {\n",
    "        'road': '{tmp_dict[road]} {tmp_dict[number]}{tmp_dict[floor]}{tmp_dict[door]}'.format(tmp_dict=tmp_dict),\n",
    "        'zip': '{tmp_dict[zip]} {tmp_dict[zip_name]}'.format(tmp_dict=tmp_dict)\n",
    "    }\n",
    "    \n",
    "    return out_dict\n",
    "\n",
    "\n",
    "adresses = []\n",
    "for element in json_addresses:\n",
    "    \n",
    "    adresses.append(addr_const(element))"
   ]
  },
  {
   "cell_type": "markdown",
   "metadata": {},
   "source": [
    "Save formatted address data to disk"
   ]
  },
  {
   "cell_type": "code",
   "execution_count": 104,
   "metadata": {
    "collapsed": true
   },
   "outputs": [],
   "source": [
    "with open (PATH + '/data/address_list.pkl', 'wb') as f:\n",
    "    pickle.dump(addr_list, f)"
   ]
  },
  {
   "cell_type": "markdown",
   "metadata": {},
   "source": [
    "Read company information"
   ]
  },
  {
   "cell_type": "code",
   "execution_count": 113,
   "metadata": {},
   "outputs": [
    {
     "data": {
      "text/plain": [
       "0                             Vognmand John Maj A/S\n",
       "1             A Stoffregen Mindelegat Postboks 2231\n",
       "2                    Anthon Thorup & Søn. Århus A/S\n",
       "3    Finn Randrup. Tømrer- Og Snedkerforretning A/S\n",
       "4                         Heka Stillads-Service A/S\n",
       "Name: navn_tekst, dtype: object"
      ]
     },
     "execution_count": 113,
     "metadata": {},
     "output_type": "execute_result"
    }
   ],
   "source": [
    "company_full = pd.read_csv(PATH + 'data/companies.csv', encoding = 'utf-8', low_memory = False)\n",
    "\n",
    "companies = company_full['navn_tekst'].apply(lambda x: x.title())\n",
    "companies.head(5)\n",
    "\n",
    "companies = companies.tolist()"
   ]
  },
  {
   "cell_type": "markdown",
   "metadata": {},
   "source": [
    "Write company information to disk"
   ]
  },
  {
   "cell_type": "code",
   "execution_count": 115,
   "metadata": {
    "collapsed": true
   },
   "outputs": [],
   "source": [
    "with open (PATH + '/data/company_list.pkl', 'wb') as f:\n",
    "    pickle.dump(companies, f)"
   ]
  },
  {
   "cell_type": "markdown",
   "metadata": {},
   "source": [
    "## Image generation"
   ]
  },
  {
   "cell_type": "markdown",
   "metadata": {},
   "source": [
    "Read companies data and logos"
   ]
  },
  {
   "cell_type": "code",
   "execution_count": 16,
   "metadata": {
    "collapsed": true
   },
   "outputs": [],
   "source": [
    "with open(PATH + '/data/company_list.pkl', 'rb') as f:\n",
    "    companies = pickle.load(f)\n",
    "\n",
    "with open(PATH + '/data/address_list.pkl', 'rb') as f:  \n",
    "    addresses = pickle.load(f)"
   ]
  },
  {
   "cell_type": "markdown",
   "metadata": {},
   "source": [
    "Read images"
   ]
  },
  {
   "cell_type": "code",
   "execution_count": 26,
   "metadata": {
    "collapsed": true
   },
   "outputs": [],
   "source": [
    "logo_files = glob.glob(PATH + 'data/logos/*.jpg')\n",
    "logos = np.array([imresize(np.array(Image.open(f)), (150, 150)) for f in logo_files])"
   ]
  },
  {
   "cell_type": "code",
   "execution_count": 53,
   "metadata": {},
   "outputs": [
    {
     "data": {
      "image/png": "[encoded data removed]",
      "text/plain": [
       "<PIL.Image.Image image mode=RGB size=150x150 at 0x1C3000AA3C8>"
      ]
     },
     "execution_count": 53,
     "metadata": {},
     "output_type": "execute_result"
    }
   ],
   "source": [
    "Image.fromarray(logos[0])"
   ]
  },
  {
   "cell_type": "markdown",
   "metadata": {},
   "source": [
    "Generate images"
   ]
  },
  {
   "cell_type": "code",
   "execution_count": 430,
   "metadata": {},
   "outputs": [],
   "source": [
    "class AddressGenerator:\n",
    "    \n",
    "    def __init__(self, companies, address, logos):\n",
    "        \n",
    "        self.companies = companies\n",
    "        self.addresses = address\n",
    "        self.logos = logos\n",
    "        self.styles = ['normal', 'italic', 'oblique']\n",
    "        self.weight = ['normal', 'bold']\n",
    "        self.font_family = ['Tahoma', 'DejaVu Sans', 'Arial', 'Verdana', 'sans-serif', 'serif',\n",
    "                            'Times New Roman', 'Courier New', 'Georgia']\n",
    "        \n",
    "    def sample(self, n):\n",
    "        \n",
    "        # Draw companies - cut name off at 30 characters\n",
    "        companies_draw = np.random.choice(self.companies, n)\n",
    "        for i in range(len(companies_draw)):\n",
    "            companies_draw[i] = companies_draw[i][:35]\n",
    "            \n",
    "        addresses_draw = np.random.choice(self.addresses, n)\n",
    "        \n",
    "        logo_rand_idx = np.random.randint(self.logos.shape[0], size = (n, ))\n",
    "        logos_draw = logos[logo_rand_idx]\n",
    "        \n",
    "        for e in range(n):\n",
    "            addresses_draw[e]['address'] = companies_draw[e] + '\\n' + \\\n",
    "                addresses_draw[e]['road'] + '\\n' + \\\n",
    "                addresses_draw[e]['zip']\n",
    "            addresses_draw[e]['logo'] = logos_draw[e]\n",
    "                \n",
    "            del addresses_draw[e]['zip'], addresses_draw[e]['road']\n",
    "                \n",
    "        return addresses_draw\n",
    "    \n",
    "    def generate_header(self, n):\n",
    "        \n",
    "        # Draw element\n",
    "        elements = self.sample(n)\n",
    "        \n",
    "        headers_hr = []\n",
    "        headers_lr = []\n",
    "        for element in elements:\n",
    "            \n",
    "            # Make figure\n",
    "            dpi = 150\n",
    "            fig = plt.figure(figsize = (600 / dpi, 200 / dpi), dpi = dpi)\n",
    "            # Subplot\n",
    "            ax = fig.add_subplot(111)\n",
    "            \n",
    "            # Define axis\n",
    "            ax.axis([0, 60, 0, 20])\n",
    "            \n",
    "            # Add text\n",
    "            ax.text(\n",
    "                58, 8, element['address'],\n",
    "                fontsize = 7,\n",
    "                style = np.random.choice(self.styles),\n",
    "                weight = np.random.choice(self.weight),\n",
    "                family = np.random.choice(self.font_family),\n",
    "                horizontalalignment = 'right'#,\n",
    "                #bbox = {'facecolor':'white', 'pad':8, 'linewidth': 0.5}\n",
    "            )\n",
    "            \n",
    "            # Add logo\n",
    "            ax.imshow(element['logo'], aspect ='equal', extent = (2, 10, 7, 15))\n",
    "            \n",
    "            # Add horizontal line\n",
    "            ax.axhline(3, color = 'black', linewidth = 0.5)\n",
    "            \n",
    "            # Hide axis\n",
    "            ax.get_xaxis().set_visible(False)\n",
    "            ax.get_yaxis().set_visible(False)\n",
    "            \n",
    "            # Hide border\n",
    "            #fig.gca().set_frame_on(False)\n",
    "            \n",
    "            # Draw header, extract as numpy pixel array and resize to low resolution\n",
    "            fig.canvas.draw()\n",
    "            hr_numpy = np.array(fig.canvas.renderer._renderer)[:,:,:3]\n",
    "            \n",
    "            resize_factor = tuple([int(num / 2) for num in hr_numpy.shape[:2]])\n",
    "            lr_numpy = imresize(hr_numpy, size = resize_factor)\n",
    "            \n",
    "            headers_hr.append(hr_numpy)\n",
    "            headers_lr.append(lr_numpy)\n",
    "            plt.close()\n",
    "            \n",
    "        self.headers_hr = np.stack(headers_hr)\n",
    "        self.headers_lr = np.stack(headers_lr)\n",
    "        \n",
    "    def random_blur(self, img):\n",
    "        \n",
    "        rand_sd = np.random.rand() * 4\n",
    "        \n",
    "        return cv2.GaussianBlur(addr.headers_hr[0], (5, 5), rand_sd)\n",
    "    \n",
    "    def random_convolution(self, img):\n",
    "        pass\n",
    "        \n",
    "    def white_balance(self, img):\n",
    "        pass\n",
    "        \n",
    "    def rotation(self, img):\n",
    "        pass\n",
    "        "
   ]
  },
  {
   "cell_type": "code",
   "execution_count": 431,
   "metadata": {
    "collapsed": true
   },
   "outputs": [],
   "source": [
    "addr = AddressGenerator(companies, addresses, logos)\n",
    "addr.generate_header(1)"
   ]
  },
  {
   "cell_type": "markdown",
   "metadata": {},
   "source": [
    "Plots"
   ]
  },
  {
   "cell_type": "code",
   "execution_count": 432,
   "metadata": {},
   "outputs": [
    {
     "data": {
      "image/png": "[encoded data removed]",
      "text/plain": [
       "<PIL.Image.Image image mode=RGB size=600x200 at 0x1C300540390>"
      ]
     },
     "execution_count": 432,
     "metadata": {},
     "output_type": "execute_result"
    }
   ],
   "source": [
    "Image.fromarray(addr.headers_hr[0])"
   ]
  },
  {
   "cell_type": "code",
   "execution_count": 420,
   "metadata": {},
   "outputs": [
    {
     "data": {
      "image/png": "[encoded data removed]",
      "text/plain": [
       "<PIL.Image.Image image mode=RGB size=300x100 at 0x1C3098492B0>"
      ]
     },
     "execution_count": 420,
     "metadata": {},
     "output_type": "execute_result"
    }
   ],
   "source": [
    "Image.fromarray(addr.headers_lr[0])"
   ]
  },
  {
   "cell_type": "code",
   "execution_count": 393,
   "metadata": {},
   "outputs": [
    {
     "data": {
      "text/plain": [
       "2.76"
      ]
     },
     "execution_count": 393,
     "metadata": {},
     "output_type": "execute_result"
    }
   ],
   "source": [
    "414/150"
   ]
  },
  {
   "cell_type": "code",
   "execution_count": 423,
   "metadata": {},
   "outputs": [
    {
     "data": {
      "image/png": "[encoded data removed]",
      "text/plain": [
       "<PIL.Image.Image image mode=RGB size=600x200 at 0x1C30067F0F0>"
      ]
     },
     "execution_count": 423,
     "metadata": {},
     "output_type": "execute_result"
    }
   ],
   "source": [
    "Image.fromarray(cv2.GaussianBlur(addr.headers_hr[0], (3, 3), 2.5))"
   ]
  },
  {
   "cell_type": "code",
   "execution_count": 99,
   "metadata": {},
   "outputs": [
    {
     "data": {
      "text/plain": [
       "{'road': 'Pladehals Allé 43, 6. mf.', 'zip': '2450 København SV'}"
      ]
     },
     "execution_count": 99,
     "metadata": {},
     "output_type": "execute_result"
    }
   ],
   "source": [
    "addr_list[34647]"
   ]
  },
  {
   "cell_type": "code",
   "execution_count": 78,
   "metadata": {
    "collapsed": true
   },
   "outputs": [],
   "source": []
  },
  {
   "cell_type": "code",
   "execution_count": 79,
   "metadata": {},
   "outputs": [
    {
     "data": {
      "text/plain": [
       "{'road': 'Sundby Parkvej 9, 2. th', 'zip': '2300 København S'}"
      ]
     },
     "execution_count": 79,
     "metadata": {},
     "output_type": "execute_result"
    }
   ],
   "source": [
    "addr_const(json_addr[245])"
   ]
  },
  {
   "cell_type": "code",
   "execution_count": 33,
   "metadata": {},
   "outputs": [
    {
     "data": {
      "text/plain": [
       "600"
      ]
     },
     "execution_count": 33,
     "metadata": {},
     "output_type": "execute_result"
    }
   ],
   "source": [
    "\n",
    "150*4 "
   ]
  },
  {
   "cell_type": "code",
   "execution_count": 170,
   "metadata": {},
   "outputs": [
    {
     "data": {
      "text/plain": [
       "array([4, 3, 2, 3, 2])"
      ]
     },
     "execution_count": 170,
     "metadata": {},
     "output_type": "execute_result"
    }
   ],
   "source": [
    "np.random.choice([1,2,3,4])"
   ]
  },
  {
   "cell_type": "code",
   "execution_count": 409,
   "metadata": {},
   "outputs": [
    {
     "data": {
      "text/plain": [
       "0.02552641896947694"
      ]
     },
     "execution_count": 409,
     "metadata": {},
     "output_type": "execute_result"
    }
   ],
   "source": [
    "np.random.rand()"
   ]
  },
  {
   "cell_type": "code",
   "execution_count": null,
   "metadata": {
    "collapsed": true
   },
   "outputs": [],
   "source": []
  },
  {
   "cell_type": "code",
   "execution_count": null,
   "metadata": {
    "collapsed": true
   },
   "outputs": [],
   "source": []
  },
  {
   "cell_type": "code",
   "execution_count": null,
   "metadata": {
    "collapsed": true
   },
   "outputs": [],
   "source": []
  },
  {
   "cell_type": "code",
   "execution_count": null,
   "metadata": {
    "collapsed": true
   },
   "outputs": [],
   "source": []
  },
  {
   "cell_type": "code",
   "execution_count": null,
   "metadata": {
    "collapsed": true
   },
   "outputs": [],
   "source": []
  }
 ],
 "metadata": {
  "kernelspec": {
   "display_name": "Python 3",
   "language": "python",
   "name": "python3"
  },
  "language_info": {
   "codemirror_mode": {
    "name": "ipython",
    "version": 3
   },
   "file_extension": ".py",
   "mimetype": "text/x-python",
   "name": "python",
   "nbconvert_exporter": "python",
   "pygments_lexer": "ipython3",
   "version": "3.5.3"
  }
 },
 "nbformat": 4,
 "nbformat_minor": 2
}
